{
 "cells": [
  {
   "cell_type": "markdown",
   "id": "b33661c1-3ad1-4745-925a-b7b332861012",
   "metadata": {},
   "source": [
    "## Q1. What is multithreading in python? why is it used? name the module used to handle threads in pyhton."
   ]
  },
  {
   "cell_type": "markdown",
   "id": "8e8ad406-03c8-4103-a3e4-4d9cf06eb0c6",
   "metadata": {},
   "source": [
    "#Ans: 1\n",
    "\n",
    "**Multithreading:**\n",
    "Multithreading is a programming technique that allows multiple threads of execution to run concurrently within a single process. In Python, multithreading is achieved through the use of the threading module.\n",
    "\n",
    "**Why multithreading is used in python:**\n",
    "\n",
    "The primary purpose of using multithreading in Python (or any programming language) is to improve the performance of a program by allowing it to perform multiple tasks concurrently. By using multiple threads, a program can take advantage of the available CPU cores, which can lead to significant performance improvements.\n",
    "\n",
    "In Python, multithreading can be used in a wide variety of applications, including web scraping, data analysis, and network programming. For example, a web scraper may use multiple threads to download and process data from multiple websites simultaneously. A data analysis tool may use multiple threads to perform computationally intensive tasks such as machine learning or natural language processing. A network programming application may use multiple threads to handle multiple client connections simultaneously.\n",
    "\n",
    "It's important to note that while multithreading can improve performance in certain situations, it's not always the best solution. In some cases, using multiprocessing or asynchronous programming may be a better choice. Additionally, multithreading can introduce some complexity and potential issues such as race conditions and deadlocks, so it's important to use it judiciously and with care.\n",
    "\n",
    "**Name the module used to handle threads in pyhton:**\n",
    "\n",
    "The module used to handle threads in Python is called threading. It provides a simple way to create and manage threads in a Python program. The threading module provides the Thread class, which is used to create a new thread. It also provides various methods and functions to manage and control threads, such as start(), join(), setDaemon(), and Lock()."
   ]
  },
  {
   "cell_type": "code",
   "execution_count": null,
   "id": "ea070834-ddb1-4c97-a20c-d3cfe1290a35",
   "metadata": {},
   "outputs": [],
   "source": []
  },
  {
   "cell_type": "markdown",
   "id": "5970966c-a075-4c9c-9538-c1cc4c74f071",
   "metadata": {},
   "source": [
    "## Q2. Why threading module used ? write the use of the following functions:\n",
    "1. activeCount()\n",
    "2. currentThread()\n",
    "3. enumerate()"
   ]
  },
  {
   "cell_type": "markdown",
   "id": "72b71e40-ed51-4f90-9ae8-115bbbdb5337",
   "metadata": {},
   "source": [
    "# Ans: 2\n",
    "\n",
    "The threading module is used in Python to enable multithreading, which allows a program to perform multiple tasks concurrently. This can improve the performance of the program by taking advantage of the available CPU cores. The threading module provides a simple way to create and manage threads in a Python program. It provides the Thread class to create a new thread, and various methods and functions to manage and control threads, By using the threading module, developers can write concurrent programs in Python that can perform multiple tasks simultaneously, which can lead to significant performance improvements in certain situations.\n",
    "\n",
    "\n",
    "\n",
    "**Use of activeCount()**\n",
    "\n",
    "activeCount(): This function is used to get the number of currently active Thread objects. It returns an integer value that represents the number of active threads in the current program.\n",
    "\n",
    "**Use of currentThread()**\n",
    "\n",
    "currentThread(): This function is used to get the current Thread object. It returns a Thread object that represents the current thread of execution.\n",
    "\n",
    "**Use of enumerate()**\n",
    "\n",
    "enumerate(): This function is used to get a list of all Thread objects that are currently active. It returns a list of Thread objects that represents all active threads in the current program. The function takes an optional argument, which is a boolean value that indicates whether to include only the active daemon threads or all threads, including non-daemon threads. If the argument is not provided, it defaults to False, which means that all threads are included in the list.\n"
   ]
  },
  {
   "cell_type": "code",
   "execution_count": null,
   "id": "d03cc121-c671-489a-8700-f18ea1247a8f",
   "metadata": {},
   "outputs": [],
   "source": []
  },
  {
   "cell_type": "markdown",
   "id": "5b50aaca-dcdf-4095-80a5-c193f0c753bb",
   "metadata": {},
   "source": [
    "## Q3. Explain the following functions:\n",
    "    1. run()\n",
    "    2. start()\n",
    "    3. join()\n",
    "    4. isAlive()"
   ]
  },
  {
   "cell_type": "markdown",
   "id": "84725b64-bc22-48ef-8bb2-b2ccbc81e6dd",
   "metadata": {},
   "source": [
    "# Ans: 3\n",
    "\n",
    "**1.run()**\n",
    "\n",
    "run() function is not a built-in function in python. However, it is a method that is part of the Thread class in the threading module. The run() method is the entry point for a new thread of execution. When you create a new thread by creating an instance of the Thread class and calling its start() method, the run() method of that instance is called in a separate thread."
   ]
  },
  {
   "cell_type": "code",
   "execution_count": 21,
   "id": "30117064-6935-4e49-a509-095791cd9bc2",
   "metadata": {},
   "outputs": [
    {
     "name": "stdout",
     "output_type": "stream",
     "text": [
      "Hello from Chote Miyan! \n",
      "Hello from Bade Miyan!\n"
     ]
    }
   ],
   "source": [
    "#Here is an example of run() method:\n",
    "import threading\n",
    "\n",
    "class MyThread(threading.Thread):\n",
    "    def run(self):\n",
    "        print(\"Hello from Chote Miyan! \")\n",
    "\n",
    "# create an instance of MyThread class\n",
    "my_thread = MyThread()\n",
    "\n",
    "# start the thread\n",
    "my_thread.start()\n",
    "\n",
    "# main thread continues executing\n",
    "print(\"Hello from Bade Miyan!\")\n"
   ]
  },
  {
   "cell_type": "markdown",
   "id": "c6bccf7f-b8e3-4c07-a62c-bbf792946ccf",
   "metadata": {},
   "source": [
    "**2.start()**\n",
    "\n",
    "start() is a method that is used to start a new thread of execution in python. A thread is a separate flow of execution within a program, and using multiple threads can help to improve the performance and responsiveness of a program."
   ]
  },
  {
   "cell_type": "code",
   "execution_count": 22,
   "id": "c5a4b807-149d-4844-b547-508b534405fe",
   "metadata": {},
   "outputs": [
    {
     "name": "stdout",
     "output_type": "stream",
     "text": [
      "My car's speed becomes %d 0\n",
      "My car's speed becomes %d 1\n",
      "My car's speed becomes %d 2\n",
      "My car's speed becomes %d 3\n",
      "My car's speed becomes %d 4\n",
      "My car's speed becomes %d 5\n",
      "My car's speed becomes %d 6\n",
      "My car's speed becomes %d 7\n",
      "My car's speed becomes %d 8\n",
      "My car's speed becomes %d 9\n",
      "My car's speed becomes %d 10\n",
      "My car's speed becomes %d 11\n",
      "My car's speed becomes %d 12\n",
      "My car's speed becomes %d 13\n",
      "My car's speed becomes %d 14\n"
     ]
    }
   ],
   "source": [
    "import threading\n",
    "def krish(id):\n",
    "    print(\"My car's speed becomes %d\" , id)\n",
    "    \n",
    "thread = [threading.Thread(target= krish, args= (i,)) for i in range(15)]\n",
    "for k in thread :\n",
    "    k.start()"
   ]
  },
  {
   "cell_type": "markdown",
   "id": "9ab96e67-edb5-4daa-abda-218be6135fb0",
   "metadata": {},
   "source": [
    "**3.join()**\n",
    "\n",
    "The join() function in Python is used to join a sequence of strings together with a specified delimiter character. The resulting string will be a concatenation of all the strings in the sequence, separated by the specified delimiter."
   ]
  },
  {
   "cell_type": "code",
   "execution_count": 23,
   "id": "32ebcf3f-6c11-4b6a-9913-03123efc3d73",
   "metadata": {},
   "outputs": [
    {
     "name": "stdout",
     "output_type": "stream",
     "text": [
      "Radhe Krishna Jai shree Ram\n"
     ]
    }
   ],
   "source": [
    "#Here is an example of join() method:\n",
    "\n",
    "# Define a list of strings\n",
    "list = [\"Radhe\", \"Krishna\", \"Jai shree\", \"Ram\"]\n",
    "\n",
    "# Join the list of strings using a space as the delimiter\n",
    "sentence = \" \".join(list)\n",
    "\n",
    "# Print the resulting string\n",
    "print(sentence)\n"
   ]
  },
  {
   "cell_type": "markdown",
   "id": "494e08a7-afc2-4aad-81c8-a6dc25da397f",
   "metadata": {},
   "source": [
    "**4.isAlive()**\n",
    "\n",
    "The isAlive() function is not a built-in function in Python. However, it is a method that can be used with the threading module.\n",
    "\n",
    "The isAlive() method is used to check whether a thread is still running or has completed its execution. It returns a boolean value True if the thread is still running, and False if it has completed its execution"
   ]
  },
  {
   "cell_type": "code",
   "execution_count": 24,
   "id": "0f94c860-f5f6-403a-99cd-d41102425af0",
   "metadata": {},
   "outputs": [
    {
     "name": "stdout",
     "output_type": "stream",
     "text": [
      "Starting my_function\n",
      "Current thread is alive: True\n",
      "Ending my_function\n",
      "Main thread is alive: True\n",
      "Thread is alive: False\n"
     ]
    }
   ],
   "source": [
    "import threading\n",
    "import time\n",
    "\n",
    "def my_function():\n",
    "    print(\"Starting my_function\")\n",
    "    print(\"Current thread is alive:\", threading.current_thread().is_alive())\n",
    "    print(\"Ending my_function\")\n",
    "\n",
    "thread1 = threading.Thread(target=my_function)\n",
    "thread1.start()\n",
    "\n",
    "time.sleep(1)\n",
    "\n",
    "print(\"Main thread is alive:\", threading.current_thread().is_alive())\n",
    "\n",
    "thread1.join()\n",
    "print(\"Thread is alive:\", thread1.is_alive())\n"
   ]
  },
  {
   "cell_type": "code",
   "execution_count": null,
   "id": "876cbfe1-bd19-49a2-b3de-166ead847af2",
   "metadata": {},
   "outputs": [],
   "source": []
  },
  {
   "cell_type": "markdown",
   "id": "d9f7e3e1-4780-4b53-8f97-4c0dd901162e",
   "metadata": {},
   "source": [
    "## Q4. write a python program to create two threads. Thread one must print the list of squares and thread two must print the list of cubes.\n"
   ]
  },
  {
   "cell_type": "code",
   "execution_count": 25,
   "id": "79e7966b-3d24-4ae3-bd65-fc6a9a6cc27a",
   "metadata": {},
   "outputs": [
    {
     "name": "stdout",
     "output_type": "stream",
     "text": [
      "1 squared is 1\n",
      "2 squared is 4\n",
      "3 squared is 9\n",
      "4 squared is 16\n",
      "5 squared is 25\n",
      "6 squared is 36\n",
      "7 squared is 49\n",
      "8 squared is 64\n",
      "9 squared is 81\n",
      "10 squared is 100\n",
      "1 cubed os 1\n",
      "2 cubed os 8\n",
      "3 cubed os 27\n",
      "4 cubed os 64\n",
      "5 cubed os 125\n",
      "6 cubed os 216\n",
      "7 cubed os 343\n",
      "8 cubed os 512\n",
      "9 cubed os 729\n",
      "10 cubed os 1000\n"
     ]
    }
   ],
   "source": [
    "# Ans: 4\n",
    "\n",
    "import threading \n",
    "\n",
    "#define a function to print the square of numbers form 1 to 10\n",
    "def print_squares():\n",
    "    for i in range(1,11):\n",
    "        print(f\"{i} squared is {i*i}\")\n",
    "        \n",
    "        \n",
    "        \n",
    "#define a function to print the cubes of numbers from 1 to 10 \n",
    "def print_cubes():\n",
    "    for i in range(1,11):\n",
    "        print(f\"{i} cubed os {i*i*i}\")\n",
    "        \n",
    "\n",
    "#create two threads , one for each function\n",
    "t1 = threading.Thread(target= print_squares)\n",
    "t2 = threading.Thread(target= print_cubes)\n",
    "\n",
    "#start both threads\n",
    "t1.start()\n",
    "t2.start()\n",
    "\n",
    "t1.join()\n",
    "t2.join()"
   ]
  },
  {
   "cell_type": "code",
   "execution_count": null,
   "id": "c4cf70d4-e5f7-417b-ac83-df945e582861",
   "metadata": {},
   "outputs": [],
   "source": []
  },
  {
   "cell_type": "markdown",
   "id": "69bff6db-c679-473c-9f73-95cda742f298",
   "metadata": {},
   "source": [
    "## Q5. State advantages and disadvantages of multithreading."
   ]
  },
  {
   "cell_type": "markdown",
   "id": "2f09154e-f4b1-4306-89c8-b831c7c17ee9",
   "metadata": {},
   "source": [
    "# Ans: 5\n",
    "\n",
    "Multithreading is a technique that allows multiple threads of execution to run concurrently within the same program. Each thread operates independently of the others, and they can share resources and data with each other as needed\n",
    "\n",
    "\n",
    "\n",
    "**Advantages of Multithreading:**\n",
    "\n",
    "\n",
    "\n",
    "**Increased throughput and responsiveness:** Multithreading can increase the throughput and responsiveness of a program by allowing multiple tasks to be executed simultaneously.\n",
    "\n",
    "**Better resource utilization:** Multithreading allows better utilization of system resources, such as CPU, memory, and I/O devices, by distributing the workload across multiple threads.\n",
    "\n",
    "**Improved performance:** Multithreading can improve the performance of a program by taking advantage of the multiple cores available in modern processors.\n",
    "\n",
    "**Enhanced modularity:** Multithreading can improve the modularity of a program by allowing different parts of the program to be executed independently, which can simplify program design and maintenance.\n",
    "\n",
    "**Better user experience:** Multithreading can improve the user experience of a program by allowing it to respond more quickly to user input and to perform background tasks without interfering with the main task.\n",
    "\n",
    "\n",
    "\n",
    "\n",
    "**Disadvantages of Multithreading:**\n",
    "\n",
    "\n",
    "\n",
    "**Complexity:** Multithreading can add complexity to a program, making it harder to design, debug, and maintain.\n",
    "\n",
    "**Race conditions:** Multithreading can introduce race conditions, where two or more threads access the same resource simultaneously, leading to unexpected and sometimes incorrect behavior.\n",
    "\n",
    "**Synchronization overhead:** Multithreading requires synchronization mechanisms, such as locks and semaphores, to ensure that threads access shared resources in a mutually exclusive manner. This synchronization overhead can reduce the performance of the program.\n",
    "\n",
    "**Deadlocks:** Multithreading can lead to deadlocks, where two or more threads are blocked waiting for each other to release a resource they need.\n",
    "\n",
    "**Increased memory usage:** Multithreading can increase the memory usage of a program, as each thread requires its own stack and other resources. This can be a problem in memory-constrained environments."
   ]
  },
  {
   "cell_type": "code",
   "execution_count": null,
   "id": "2675fc75-734b-4cff-8a54-747e471620b1",
   "metadata": {},
   "outputs": [],
   "source": []
  },
  {
   "cell_type": "markdown",
   "id": "f06738be-5bf3-4afe-82bc-e9ce57f9849c",
   "metadata": {},
   "source": [
    "## Q6. Explain deadlocks and race coditions."
   ]
  },
  {
   "cell_type": "markdown",
   "id": "6fcde5d0-0362-49a2-a066-ff02a5b9bcf0",
   "metadata": {},
   "source": [
    "# Ans: 6\n",
    "\n",
    "Deadlocks and race conditions are two common problems that can occur in multi-threaded or multi-process programs.\n",
    "\n",
    "\n",
    "**deadlock conditions:**\n",
    "A deadlock occurs when two or more threads or processes are blocked indefinitely, waiting for each other to release a resource that they need to proceed. This situation can arise when two or more threads acquire locks on resources in a different order, and each thread is waiting for a resource that is currently held by another thread. Deadlocks can cause programs to hang or crash, and they can be difficult to debug and resolve.\n",
    "\n",
    "\n",
    "**race condition:**\n",
    "A race condition occurs when the outcome of a program depends on the order in which two or more threads or processes execute. This can happen when multiple threads or processes try to access the same shared resource concurrently, and the outcome depends on the timing of these accesses. For example, if two threads try to write to the same memory location at the same time, the resulting value may be unpredictable. Race conditions can cause programs to produce incorrect results, and they can be difficult to reproduce and debug.\n",
    "\n",
    "Both deadlocks and race conditions are often caused by improper synchronization of shared resources, such as locks or semaphores. To avoid these problems, it is important to carefully design and test multi-threaded or multi-process programs, and to use synchronization mechanisms correctly and consistently throughout the code."
   ]
  },
  {
   "cell_type": "code",
   "execution_count": null,
   "id": "33a51372-acdd-47b1-8369-cfed1f9a9903",
   "metadata": {},
   "outputs": [],
   "source": []
  },
  {
   "cell_type": "code",
   "execution_count": null,
   "id": "f011da96-741b-4be4-a851-b7caf144a24f",
   "metadata": {},
   "outputs": [],
   "source": []
  },
  {
   "cell_type": "code",
   "execution_count": null,
   "id": "6211b1ba-e97e-48d6-ab51-0edd42201c5b",
   "metadata": {},
   "outputs": [],
   "source": []
  },
  {
   "cell_type": "code",
   "execution_count": null,
   "id": "160b6356-1109-4aab-84f7-59a0eb557509",
   "metadata": {},
   "outputs": [],
   "source": []
  }
 ],
 "metadata": {
  "kernelspec": {
   "display_name": "Python 3 (ipykernel)",
   "language": "python",
   "name": "python3"
  },
  "language_info": {
   "codemirror_mode": {
    "name": "ipython",
    "version": 3
   },
   "file_extension": ".py",
   "mimetype": "text/x-python",
   "name": "python",
   "nbconvert_exporter": "python",
   "pygments_lexer": "ipython3",
   "version": "3.10.8"
  }
 },
 "nbformat": 4,
 "nbformat_minor": 5
}
